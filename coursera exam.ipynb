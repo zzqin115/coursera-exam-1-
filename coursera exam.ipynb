{
 "cells": [
  {
   "cell_type": "markdown",
   "id": "b2f8e653-6641-4830-9572-05c6e83001ba",
   "metadata": {},
   "source": [
    "Coursera exam 1"
   ]
  },
  {
   "cell_type": "markdown",
   "id": "696d16d6-8faa-47c6-aa89-913643ce9a6d",
   "metadata": {},
   "source": [
    "This is coursera exam 1, this notebook will cover data science tools and ecosystems"
   ]
  },
  {
   "cell_type": "markdown",
   "id": "bc39608c-ea26-4093-b701-520385b67dcf",
   "metadata": {},
   "source": [
    "Popular data science languages\n",
    "1. Java\n",
    "2. Python\n",
    "3. C\n",
    "4. C++\n",
    "5. Java script\n",
    "6. Go\n",
    "7. Julia"
   ]
  },
  {
   "cell_type": "markdown",
   "id": "a46872c2-a70a-40a7-b5f9-64650105d946",
   "metadata": {},
   "source": [
    "PLibraries are:\n",
    "1. Pandas\n",
    "2. NumPy\n",
    "3. Matplotlib\n",
    "4. Seaborn\n",
    "5. Scikit-learn\n",
    "6. Keras\n",
    "7. Tensor Flow \n",
    "8. PyTorch"
   ]
  },
  {
   "cell_type": "markdown",
   "id": "0e79ff58-49a0-40c8-8ff4-c64632517d7f",
   "metadata": {},
   "source": [
    "|DATA SCIENCE TOOL|\n",
    "|-----------------|\n",
    "|Python|\n",
    "|R|\n",
    "|Pandas|\n",
    "|Pytorch|\n",
    "|MY SQL\n"
   ]
  },
  {
   "cell_type": "markdown",
   "id": "4df6474a-954d-494a-ae67-b0bf55aa9317",
   "metadata": {},
   "source": [
    "Introducing arithmetic expression examples"
   ]
  },
  {
   "cell_type": "code",
   "execution_count": 2,
   "id": "fd3ec36b-d730-4e0e-85d3-08a2da249244",
   "metadata": {},
   "outputs": [
    {
     "data": {
      "text/plain": [
       "120"
      ]
     },
     "execution_count": 2,
     "metadata": {},
     "output_type": "execute_result"
    }
   ],
   "source": [
    "(3+9)*10"
   ]
  },
  {
   "cell_type": "markdown",
   "id": "2f974842-e5cc-47d2-86cc-fd0737b45506",
   "metadata": {},
   "source": [
    "Create a code cell to convert minutes to hours."
   ]
  },
  {
   "cell_type": "markdown",
   "id": "c0abc28c-9f84-402e-8766-db385622f888",
   "metadata": {},
   "source": [
    "hours/minutes "
   ]
  },
  {
   "cell_type": "code",
   "execution_count": 6,
   "id": "e121eb27-9b8a-4098-afff-967994d7dba1",
   "metadata": {},
   "outputs": [
    {
     "data": {
      "text/plain": [
       "1.6666666666666667"
      ]
     },
     "execution_count": 6,
     "metadata": {},
     "output_type": "execute_result"
    }
   ],
   "source": [
    "100/60"
   ]
  },
  {
   "cell_type": "markdown",
   "id": "39493153-86b9-4284-98a0-1f9cabe13611",
   "metadata": {},
   "source": [
    "Objectives\n",
    "\n",
    "List popular languages for Data Science\n",
    "List commonly used libraries used by Data Scientists\n",
    "List development environment open source tools used in data science\n",
    "Show few examples of evaluating arithmetic expressions in Python\n"
   ]
  },
  {
   "cell_type": "markdown",
   "id": "d39a2e41-1185-4b9f-93bc-a2f7bb81b119",
   "metadata": {},
   "source": [
    "author"
   ]
  },
  {
   "cell_type": "markdown",
   "id": "2766dd2b-7009-4b50-b4cf-efe08d279826",
   "metadata": {},
   "source": [
    "Ziqin Z"
   ]
  }
 ],
 "metadata": {
  "kernelspec": {
   "display_name": "Python 3 (ipykernel)",
   "language": "python",
   "name": "python3"
  },
  "language_info": {
   "codemirror_mode": {
    "name": "ipython",
    "version": 3
   },
   "file_extension": ".py",
   "mimetype": "text/x-python",
   "name": "python",
   "nbconvert_exporter": "python",
   "pygments_lexer": "ipython3",
   "version": "3.12.4"
  }
 },
 "nbformat": 4,
 "nbformat_minor": 5
}
